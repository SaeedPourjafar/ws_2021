{
 "cells": [
  {
   "cell_type": "markdown",
   "id": "hired-springfield",
   "metadata": {},
   "source": [
    "#### Appendix: arxiv_cs_papers_classification"
   ]
  },
  {
   "cell_type": "markdown",
   "id": "designed-syntax",
   "metadata": {},
   "source": [
    "This is a simple model for classifying the paper category in CS. The data has been gathered from the scraped information on 3000 recent computer science papers from http://arxiv.org"
   ]
  },
  {
   "cell_type": "code",
   "execution_count": 1,
   "id": "concrete-thesis",
   "metadata": {},
   "outputs": [],
   "source": [
    "import pandas as pd \n",
    "import sklearn\n",
    "import numpy as np\n",
    "import nltk\n",
    "import re\n",
    "import matplotlib.pyplot as plt\n",
    "import seaborn as sns\n",
    "# nltk.download('stopwords') # Ucomment if it hasn't been downloaded yet\n",
    "from nltk.corpus import stopwords\n",
    "from sklearn.feature_extraction.text import TfidfVectorizer\n",
    "from sklearn import linear_model\n",
    "import warnings\n",
    "from sklearn.feature_selection import chi2\n",
    "from sklearn.feature_selection import SelectKBest\n",
    "from sklearn.model_selection import StratifiedKFold\n",
    "import gensim\n",
    "from gensim.models import Word2Vec"
   ]
  },
  {
   "cell_type": "markdown",
   "id": "guilty-poultry",
   "metadata": {},
   "source": [
    "We want to build the model based on NLP for title and classify it according to it's label (Category). As you can see in the table below, we have shown a random selection of 10 papers in which each title is associated with its defined category on arxiv. The left nuumbers are the indices for papers that goes all the way from 0 to 2999 for a total of 3000 papers. "
   ]
  },
  {
   "cell_type": "code",
   "execution_count": 24,
   "id": "manufactured-california",
   "metadata": {},
   "outputs": [
    {
     "data": {
      "text/html": [
       "<div>\n",
       "<style scoped>\n",
       "    .dataframe tbody tr th:only-of-type {\n",
       "        vertical-align: middle;\n",
       "    }\n",
       "\n",
       "    .dataframe tbody tr th {\n",
       "        vertical-align: top;\n",
       "    }\n",
       "\n",
       "    .dataframe thead th {\n",
       "        text-align: right;\n",
       "    }\n",
       "</style>\n",
       "<table border=\"1\" class=\"dataframe\">\n",
       "  <thead>\n",
       "    <tr style=\"text-align: right;\">\n",
       "      <th></th>\n",
       "      <th>Title</th>\n",
       "      <th>Category</th>\n",
       "    </tr>\n",
       "  </thead>\n",
       "  <tbody>\n",
       "    <tr>\n",
       "      <th>1991</th>\n",
       "      <td>A Two-stage Deep Network for High Dynamic Range Image Reconstruction</td>\n",
       "      <td>CV</td>\n",
       "    </tr>\n",
       "    <tr>\n",
       "      <th>217</th>\n",
       "      <td>Continuous Decoding of Daily-Life Hand Movements from Forearm Muscle Activity for Enhanced Myoelectric Control of Hand Prostheses</td>\n",
       "      <td>RO</td>\n",
       "    </tr>\n",
       "    <tr>\n",
       "      <th>231</th>\n",
       "      <td>Algorithmic Factors Influencing Bias in Machine Learning</td>\n",
       "      <td>LG</td>\n",
       "    </tr>\n",
       "    <tr>\n",
       "      <th>2249</th>\n",
       "      <td>Consistent Accelerated Inference via Confident Adaptive Transformers</td>\n",
       "      <td>CL</td>\n",
       "    </tr>\n",
       "    <tr>\n",
       "      <th>958</th>\n",
       "      <td>Attention on Global-Local Embedding Spaces in Recommender Systems</td>\n",
       "      <td>IR</td>\n",
       "    </tr>\n",
       "    <tr>\n",
       "      <th>2442</th>\n",
       "      <td>3-Coloring on Regular, Planar, and Ordered Hamiltonian Graphs</td>\n",
       "      <td>CC</td>\n",
       "    </tr>\n",
       "    <tr>\n",
       "      <th>2543</th>\n",
       "      <td>Data Augmentation for Voice-Assistant NLU using BERT-based Interchangeable Rephrase</td>\n",
       "      <td>CL</td>\n",
       "    </tr>\n",
       "    <tr>\n",
       "      <th>2707</th>\n",
       "      <td>Faithful and Plausible Explanations of Medical Code Predictions</td>\n",
       "      <td>LG</td>\n",
       "    </tr>\n",
       "    <tr>\n",
       "      <th>2815</th>\n",
       "      <td>Image Super-Resolution via Iterative Refinement</td>\n",
       "      <td>CV</td>\n",
       "    </tr>\n",
       "    <tr>\n",
       "      <th>693</th>\n",
       "      <td>Ideology in Open Source Development</td>\n",
       "      <td>SE</td>\n",
       "    </tr>\n",
       "  </tbody>\n",
       "</table>\n",
       "</div>"
      ],
      "text/plain": [
       "                                                                                                                                  Title  \\\n",
       "1991                                                               A Two-stage Deep Network for High Dynamic Range Image Reconstruction   \n",
       "217   Continuous Decoding of Daily-Life Hand Movements from Forearm Muscle Activity for Enhanced Myoelectric Control of Hand Prostheses   \n",
       "231                                                                            Algorithmic Factors Influencing Bias in Machine Learning   \n",
       "2249                                                               Consistent Accelerated Inference via Confident Adaptive Transformers   \n",
       "958                                                                   Attention on Global-Local Embedding Spaces in Recommender Systems   \n",
       "2442                                                                      3-Coloring on Regular, Planar, and Ordered Hamiltonian Graphs   \n",
       "2543                                                Data Augmentation for Voice-Assistant NLU using BERT-based Interchangeable Rephrase   \n",
       "2707                                                                    Faithful and Plausible Explanations of Medical Code Predictions   \n",
       "2815                                                                                    Image Super-Resolution via Iterative Refinement   \n",
       "693                                                                                                 Ideology in Open Source Development   \n",
       "\n",
       "     Category  \n",
       "1991       CV  \n",
       "217        RO  \n",
       "231        LG  \n",
       "2249       CL  \n",
       "958        IR  \n",
       "2442       CC  \n",
       "2543       CL  \n",
       "2707       LG  \n",
       "2815       CV  \n",
       "693        SE  "
      ]
     },
     "execution_count": 24,
     "metadata": {},
     "output_type": "execute_result"
    }
   ],
   "source": [
    "# Reading the data from 3000 scraped papers\n",
    "df = pd.read_csv('papers.csv')\n",
    "df.shape\n",
    "pd.set_option('max_colwidth', 900)\n",
    "df.sample(10).iloc[:,0:2]"
   ]
  },
  {
   "cell_type": "code",
   "execution_count": 18,
   "id": "binary-characteristic",
   "metadata": {
    "scrolled": true
   },
   "outputs": [
    {
     "data": {
      "image/png": "[encoded data removed]",
      "text/plain": [
       "<Figure size 864x288 with 1 Axes>"
      ]
     },
     "metadata": {},
     "output_type": "display_data"
    }
   ],
   "source": [
    "plt.figure(figsize=(12,4))\n",
    "sns.set_style(\"darkgrid\")\n",
    "sns.countplot(x=\"Category\",data=df);"
   ]
  },
  {
   "cell_type": "markdown",
   "id": "agreed-fundamental",
   "metadata": {},
   "source": [
    "Looks like CV (Computer Vision), LG (machine LearninG) and CL (Computation and Language) were the most frequent categories in recent computer science papers"
   ]
  },
  {
   "cell_type": "code",
   "execution_count": 8,
   "id": "wireless-torture",
   "metadata": {},
   "outputs": [
    {
     "name": "stdout",
     "output_type": "stream",
     "text": [
      "Number of unique categories in dataframe: 37\n",
      "GL\n",
      "NA\n",
      "SY\n"
     ]
    }
   ],
   "source": [
    "print(\"Number of unique categories in dataframe:\",len(df.Category.unique()))\n",
    "all_cat = ['AI','CL','CC','CE','CG','GT','CV','CY','CR','DS','DB','DL','DM','DC',\n",
    "           'ET','FL','GL','GR','AR','HC','IR','IT','LO','LG','MS','MA','MM','NI',\n",
    "           'NE','NA','OS','OH','PF','PL','RO','SI','SE','SD','SC','SY']\n",
    "for i in all_cat:\n",
    "    if i not in df.Category.unique():\n",
    "        print(i)\n",
    "titles = df['Title'] \n",
    "labels = df['Category']"
   ]
  },
  {
   "cell_type": "markdown",
   "id": "reported-lecture",
   "metadata": {},
   "source": [
    "looks like General Literature (GL), Numerical Analysis (NA) and Systems and Control (SY) hasn't been in recent papers"
   ]
  },
  {
   "cell_type": "code",
   "execution_count": 9,
   "id": "organized-superior",
   "metadata": {},
   "outputs": [
    {
     "name": "stdout",
     "output_type": "stream",
     "text": [
      "['exemplar-based 3d portrait stylization', 'large-scale study unsupervised spatiotemporal representation learning', 'learned spatial representations few-shot talking-head synthesis', 'discover unknown biased attribute image classifier', 'mongenet: efficient sampler geometric deep learning']\n",
      "[['exemplar-based', '3d', 'portrait', 'stylization'], ['large-scale', 'study', 'unsupervised', 'spatiotemporal', 'representation', 'learning'], ['learned', 'spatial', 'representations', 'few-shot', 'talking-head', 'synthesis'], ['discover', 'unknown', 'biased', 'attribute', 'image', 'classifier'], ['mongenet:', 'efficient', 'sampler', 'geometric', 'deep', 'learning']]\n"
     ]
    }
   ],
   "source": [
    "# Preprocessing\n",
    "processed_titles_wordlist = []\n",
    "processed_titles = []\n",
    "stops = set(stopwords.words('english'))\n",
    "for i in range( 0, titles.size):\n",
    "    words = titles[i].lower().split()\n",
    "    words = [w.lower() for w in words if not w in stops]  \n",
    "    processed_titles_wordlist.append(words)\n",
    "    processed_titles.append(\" \".join(words))\n",
    "print(processed_titles[0:5])\n",
    "print(processed_titles_wordlist[0:5])"
   ]
  },
  {
   "cell_type": "markdown",
   "id": "running-cowboy",
   "metadata": {},
   "source": [
    "### Vectorization and building the model\n",
    "Now that we cleaned our data and removed the stopwords and gathered a processed title and wordlist, it's time to vectorize title by TFIDF (Term Frequency–Inverse Document Frequency)<br>\n",
    "."
   ]
  },
  {
   "cell_type": "code",
   "execution_count": 12,
   "id": "mathematical-complement",
   "metadata": {},
   "outputs": [],
   "source": [
    "# Vectorizing by TFIDF and building Document Term Matrix (DTM)\n",
    "vect = TfidfVectorizer()\n",
    "dtm = vect.fit_transform(processed_titles).toarray()\n",
    "chisqModel = SelectKBest(chi2,k=5655)\n",
    "chisqDtm = chisqModel.fit_transform(dtm,labels)\n",
    "\n",
    "def makeFeatureVec(words, model, num_features):\n",
    "    feature_vec = np.zeros((num_features,),dtype=\"float32\")\n",
    "    nwords = 0\n",
    "    index2word_set = set(model.wv.index2word)\n",
    "    for word in words:\n",
    "        if word in index2word_set: \n",
    "            nwords += 1\n",
    "            feature_vec = np.add(feature_vec,model.wv[word]) \n",
    "\n",
    "    feature_vec = np.divide(feature_vec,nwords)\n",
    "   \n",
    "    return feature_vec\n",
    "\n",
    "def getAvgFeatureVecs(title, model, num_features):\n",
    "    counter = 0\n",
    "    titleFeatureVecs = np.zeros((len(title), num_features),dtype=\"float32\")\n",
    "    for t in title:\n",
    "        titleFeatureVecs[counter] = makeFeatureVec(t, model,num_features)\n",
    "        counter += 1\n",
    "    return titleFeatureVecs\n",
    "\n",
    "word2vec_model = Word2Vec(processed_titles_wordlist, workers=1, \n",
    "            size=5655, min_count = 1, \n",
    "            window = 8, sample = 1e-5)\n",
    "word2vec_model.init_sims(replace=True)\n",
    "wordVecs = getAvgFeatureVecs(processed_titles_wordlist, word2vec_model, 5655)\n",
    "combinedFeatures = np.hstack([chisqDtm,wordVecs])"
   ]
  },
  {
   "cell_type": "markdown",
   "id": "nonprofit-membership",
   "metadata": {},
   "source": [
    "Finally we feed the data which has been split into train and test set to our model and evaluate our model accuracy."
   ]
  },
  {
   "cell_type": "code",
   "execution_count": 13,
   "id": "bearing-animation",
   "metadata": {},
   "outputs": [
    {
     "name": "stdout",
     "output_type": "stream",
     "text": [
      "Model accuracy: 0.57\n"
     ]
    }
   ],
   "source": [
    "# Building the model\n",
    "skf = StratifiedKFold(n_splits=10)\n",
    "skf.get_n_splits(combinedFeatures, labels)\n",
    "warnings.filterwarnings(\"ignore\", category=UserWarning)\n",
    "for train_index, test_index in skf.split(combinedFeatures,labels):\n",
    "    X_train, X_test = combinedFeatures[train_index], combinedFeatures[test_index]\n",
    "    y_train, y_test = labels[train_index], labels[test_index]\n",
    "    model = linear_model.RidgeClassifier().fit(X_train, y_train)\n",
    "    y_pred = model.predict(X_test)\n",
    "print(\"Model accuracy:\",round(sklearn.metrics.accuracy_score(y_test, y_pred),2))"
   ]
  }
 ],
 "metadata": {
  "kernelspec": {
   "display_name": "Python 3",
   "language": "python",
   "name": "python3"
  },
  "language_info": {
   "codemirror_mode": {
    "name": "ipython",
    "version": 3
   },
   "file_extension": ".py",
   "mimetype": "text/x-python",
   "name": "python",
   "nbconvert_exporter": "python",
   "pygments_lexer": "ipython3",
   "version": "3.9.2"
  }
 },
 "nbformat": 4,
 "nbformat_minor": 5
}
